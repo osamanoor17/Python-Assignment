{
  "nbformat": 4,
  "nbformat_minor": 0,
  "metadata": {
    "colab": {
      "provenance": [],
      "authorship_tag": "ABX9TyOW0iDcY7imH2dUgj1Gm+uM",
      "include_colab_link": true
    },
    "kernelspec": {
      "name": "python3",
      "display_name": "Python 3"
    },
    "language_info": {
      "name": "python"
    }
  },
  "cells": [
    {
      "cell_type": "markdown",
      "metadata": {
        "id": "view-in-github",
        "colab_type": "text"
      },
      "source": [
        "<a href=\"https://colab.research.google.com/github/osamanoor17/Python-Assignment/blob/main/Python_Assignment_(M_Osama_Noor).ipynb\" target=\"_parent\"><img src=\"https://colab.research.google.com/assets/colab-badge.svg\" alt=\"Open In Colab\"/></a>"
      ]
    },
    {
      "cell_type": "code",
      "execution_count": null,
      "metadata": {
        "id": "yNn7x73zTgnX"
      },
      "outputs": [],
      "source": [
        "# Task 1: Variables and Data Types"
      ]
    },
    {
      "cell_type": "code",
      "source": [
        "# a) Create three variables: one for storing your age (integer), one for your name (string), and one to check if you are a student (Boolean). Print the variables.\n",
        "\n",
        "# Let's definie variables\n",
        "age = 23  #storing the Integer\n",
        "name = \"Osama\"  #storing the String\n",
        "is_student = False  #to check if you are student using boolean data type.\n",
        "\n",
        "# Let's Print the defined variables\n",
        "print(\"Age:\", age)\n",
        "print(\"Name:\", name)\n",
        "print(\"Is Student:\", is_student)\n",
        "print(name, \"is Student:\", is_student) # Additional print statement."
      ],
      "metadata": {
        "colab": {
          "base_uri": "https://localhost:8080/"
        },
        "id": "8vitNj0EUBl3",
        "outputId": "d754a4b9-83d5-4d22-be14-d29587d9e68f"
      },
      "execution_count": 6,
      "outputs": [
        {
          "output_type": "stream",
          "name": "stdout",
          "text": [
            "Age: 23\n",
            "Name: Osama\n",
            "Is Student: False\n",
            "Osama is Student: False\n"
          ]
        }
      ]
    },
    {
      "cell_type": "code",
      "source": [
        "# b) Perform the following operations and print the results:\n",
        "#    - Add 25 to your age variable.\n",
        "#    - Concatenate your name with the string \"Smith.\"\n",
        "#    - Negate the Boolean variable (if True, make it False, and vice versa).\n",
        "\n",
        "# Let's definie variables\n",
        "age = 23  #storing the Integer\n",
        "name = \"Osama\" #storing the String\n",
        "is_student = False  #to check if you are student using boolean data type.\n",
        "\n",
        "# let's perform the above operations.\n",
        "new_age = age + 25\n",
        "full_name = name + \"Smith\"\n",
        "negated_student_status = not is_student\n",
        "\n",
        "# Let's Print the defined variables and updated operations results.\n",
        "print(\"New Age:\", new_age)\n",
        "print(\"Full Name:\", full_name)\n",
        "print(\"Negated Student Status:\", negated_student_status)\n"
      ],
      "metadata": {
        "colab": {
          "base_uri": "https://localhost:8080/"
        },
        "id": "B5fgqX2FWgpw",
        "outputId": "1f70bd3f-9f83-45e6-8c82-f7bd517c1d51"
      },
      "execution_count": 8,
      "outputs": [
        {
          "output_type": "stream",
          "name": "stdout",
          "text": [
            "New Age: 48\n",
            "Full Name: OsamaSmith\n",
            "Negated Student Status: True\n"
          ]
        }
      ]
    },
    {
      "cell_type": "code",
      "source": [
        "# Task 2: Expressions and Operators"
      ],
      "metadata": {
        "id": "XbDo9a2NXZH3"
      },
      "execution_count": null,
      "outputs": []
    },
    {
      "cell_type": "code",
      "source": [
        "# a) A rectangle has a width of 5.5 units and a height of 3.25 units. Store width and height in variables.\n",
        "# Create a new variable called area and write an expression to calculate the area.\n",
        "# Print the area in the output.\n",
        "\n",
        "width = 5.5 #units\n",
        "height = 3.25 #units\n",
        "\n",
        "area = width * height\n",
        "\n",
        "print(\"The area of a rectangle that has width 5.5 units and height 3.25 units:\",area, \"square units\")\n"
      ],
      "metadata": {
        "colab": {
          "base_uri": "https://localhost:8080/"
        },
        "id": "VQWxkCQLXdCG",
        "outputId": "96c69d38-96d3-4c3a-952e-237eaf89e266"
      },
      "execution_count": 12,
      "outputs": [
        {
          "output_type": "stream",
          "name": "stdout",
          "text": [
            "The area of a rectangle that has width 5.5 units and height 3.25 units: 17.875 square units\n"
          ]
        }
      ]
    },
    {
      "cell_type": "code",
      "source": [
        "# b) Take temperature input from user in Celsius. Convert it to Fahrenheit using the formula:\n",
        "# F = (C * 9/5) + 32\n",
        "\n",
        "#taking input from the user in Celsius...\n",
        "celsius = float(input(\"Enter the temperature in Celsius:\"))\n",
        "\n",
        "# converting into fahrenheit..\n",
        "fahrenheit = (celsius * 9/5) + 32\n",
        "\n",
        "#printing the Celsius temperature..\n",
        "print(\"Temperature in Celsius:\",celsius,\"C\")\n",
        "\n",
        "#printing the Fahrenheit temperature..\n",
        "print(\"Temperature in Fahrenheit:\",fahrenheit,\"F\")"
      ],
      "metadata": {
        "colab": {
          "base_uri": "https://localhost:8080/"
        },
        "id": "Pd9bSVSNZO93",
        "outputId": "e86d9a46-fe58-4d53-9437-6a780fff4a9a"
      },
      "execution_count": 26,
      "outputs": [
        {
          "output_type": "stream",
          "name": "stdout",
          "text": [
            "Enter the temperature in Celsius:15\n",
            "Temperature in Celsius: 15.0 C\n",
            "Temperature in Fahrenheit: 59.0 F\n"
          ]
        }
      ]
    },
    {
      "cell_type": "code",
      "source": [
        "# c)Take radius of the circle as input from user.\n",
        "# Calculate the area of a circle with this radius and store it in a variable called area.\n",
        "# Print area at the end of your code.\n",
        "# (Use the formula: area = π * radius^2, where π (pi) is approximately 3.14159).\n",
        "\n",
        "# Taking user input for radius\n",
        "radius = float(input(\"Radius of the circle:\"))\n",
        "\n",
        "# Calculating area using the formula (area = π * radius^2)\n",
        "area = 3.14159 * radius ** 2\n",
        "\n",
        "# Printing the result\n",
        "print(\"Area of a circle:\", area)"
      ],
      "metadata": {
        "colab": {
          "base_uri": "https://localhost:8080/"
        },
        "id": "lbcZmTWLeRyd",
        "outputId": "4bc6c02c-62b0-41da-ed9a-80237911ef65"
      },
      "execution_count": 30,
      "outputs": [
        {
          "output_type": "stream",
          "name": "stdout",
          "text": [
            "Radius of the circle:5\n",
            "Area of a circle: 78.53975\n"
          ]
        }
      ]
    },
    {
      "cell_type": "code",
      "source": [
        "# Task 3: List Manipulation"
      ],
      "metadata": {
        "id": "j4dHrL9BfoFV"
      },
      "execution_count": null,
      "outputs": []
    },
    {
      "cell_type": "code",
      "source": [
        "# a) Create a list called \"fruits\" containing the following fruits: \"apple\", \"banana\", \"cherry\", \"date\", \"strawberry\", \"fig\", and \"grape\".\n",
        "# Print the list.\n",
        "\n",
        "# creating list of fruits\n",
        "fruits =[ \"apple\", \"banana\", \"cherry\", \"date\", \"strawberry\", \"fig\",  \"grape\"]\n",
        "\n",
        "# printing list of fruits\n",
        "print(\"List of fruits:\",fruits)"
      ],
      "metadata": {
        "colab": {
          "base_uri": "https://localhost:8080/"
        },
        "id": "-b32QIAHaoVt",
        "outputId": "033a22e1-68c8-4f36-e225-28f97554acc6"
      },
      "execution_count": 37,
      "outputs": [
        {
          "output_type": "stream",
          "name": "stdout",
          "text": [
            "List of fruits: ['apple', 'banana', 'cherry', 'date', 'strawberry', 'fig', 'grape']\n"
          ]
        }
      ]
    },
    {
      "cell_type": "code",
      "source": [
        "# 1. Remove the first and last elements from the \"fruits\" list. Print the updated list.\n",
        "\n",
        "# Creates a new list excluding first and last element\n",
        "fruits = fruits[1:-1]\n",
        "\n",
        "# printing list of fruits without first and last elements\n",
        "print(\"List of fruits:\",fruits)"
      ],
      "metadata": {
        "colab": {
          "base_uri": "https://localhost:8080/"
        },
        "id": "FeBHNCT2gHv-",
        "outputId": "18153b25-628f-4886-f6b1-8a0074c6debd"
      },
      "execution_count": 38,
      "outputs": [
        {
          "output_type": "stream",
          "name": "stdout",
          "text": [
            "List of fruits: ['banana', 'cherry', 'date', 'strawberry', 'fig']\n"
          ]
        }
      ]
    },
    {
      "cell_type": "code",
      "source": [
        "# 2. Replace the second to fourth items with [\"kiwi\", \"lemon\", \"mango\"] using list slicing.\n",
        "\n",
        "# let's Replace second to fourth items (index 1 to 3) with new fruits..\n",
        "fruits[1:4] = [\"kiwi\", \"lemon\", \"mango\"]\n",
        "\n",
        "# Printing updated list\n",
        "print(\"Updated fruits list:\", fruits)"
      ],
      "metadata": {
        "colab": {
          "base_uri": "https://localhost:8080/"
        },
        "id": "X7EZGSjPgwCu",
        "outputId": "114cc19b-f194-40b1-8d27-7f9dc37a2abb"
      },
      "execution_count": 39,
      "outputs": [
        {
          "output_type": "stream",
          "name": "stdout",
          "text": [
            "Updated fruits list: ['banana', 'kiwi', 'lemon', 'mango', 'fig']\n"
          ]
        }
      ]
    },
    {
      "cell_type": "code",
      "source": [
        "# 3. Use the len() function to find how many fruits are in the list.\n",
        "\n",
        "# initial list\n",
        "fruits =[ \"apple\", \"banana\", \"cherry\", \"date\", \"strawberry\", \"fig\",  \"grape\"]\n",
        "\n",
        "# let me count the number of items in the list\n",
        "count = len(fruits)\n",
        "\n",
        "# Printing the list\n",
        "print(\"Total number of fruits in the list:\", count)"
      ],
      "metadata": {
        "colab": {
          "base_uri": "https://localhost:8080/"
        },
        "id": "GWIF5yFpmDu9",
        "outputId": "09e23d27-13eb-47f1-9e69-32aba0968f93"
      },
      "execution_count": 41,
      "outputs": [
        {
          "output_type": "stream",
          "name": "stdout",
          "text": [
            "Total number of fruits in the list: 7\n"
          ]
        }
      ]
    },
    {
      "cell_type": "code",
      "source": [
        "# Task 4: Dictionary Operations"
      ],
      "metadata": {
        "id": "LiwwZzCWo2z1"
      },
      "execution_count": null,
      "outputs": []
    },
    {
      "cell_type": "code",
      "source": [
        "# a) Create a dictionary named \"capitals\" with three key-value pairs: \"USA\" - \"Washington D.C.,\" \"France\" - \"Paris,\" and \"Japan\" - \"Tokyo.\"\n",
        "# Print the dictionary.\n",
        "\n",
        "# creating a dictonary of capitals and key value pairs\n",
        "capitals = {\"USA\" : \"Washington D.C.\", \"France\" : \"Paris\",\"Japan\" : \"Tokyo\"}\n",
        "\n",
        "# printing the dictionary of capitals and key value pairs\n",
        "print(capitals)"
      ],
      "metadata": {
        "colab": {
          "base_uri": "https://localhost:8080/"
        },
        "id": "Z8y-LvIQrWjr",
        "outputId": "619d5d1a-13d2-499b-9ecd-ad36cb87925f"
      },
      "execution_count": 45,
      "outputs": [
        {
          "output_type": "stream",
          "name": "stdout",
          "text": [
            "{'USA': 'Washington D.C.', 'France': 'Paris', 'Japan': 'Tokyo'}\n"
          ]
        }
      ]
    },
    {
      "cell_type": "code",
      "source": [
        "# b) Add a new country and its capital to the \"capitals\" dictionary. The country is \"Germany,\" and the capital is \"Berlin.\"\n",
        "#  Print the updated dictionary.\n",
        "\n",
        "# adding a new country and it's capital\n",
        "capitals[\"Germany\"]  = \"Berlin\"\n",
        "\n",
        "# printing the updated dictionary\n",
        "print(capitals)"
      ],
      "metadata": {
        "colab": {
          "base_uri": "https://localhost:8080/"
        },
        "id": "jSY67t6ZuZLL",
        "outputId": "b371b929-1388-400c-99c6-2c9e3bc3d494"
      },
      "execution_count": 47,
      "outputs": [
        {
          "output_type": "stream",
          "name": "stdout",
          "text": [
            "{'USA': 'Washington D.C.', 'France': 'Paris', 'Japan': 'Tokyo', 'Germany': 'Berlin'}\n"
          ]
        }
      ]
    },
    {
      "cell_type": "code",
      "source": [
        "# c) Check if \"France\" exists in the \"capitals\" dictionary.\n",
        "#  If it does, print \"France is in the dictionary,\" otherwise,\n",
        "#  print \"France is not in the dictionary.\"\n",
        "\n",
        "if \"France\" in capitals: #checking if the capital France is present in the dictionary..\n",
        "  print(\"France is in the dictionary\")\n",
        "else: #otherwise print this.\n",
        "  print(\"France is not in the dictionary\")\n"
      ],
      "metadata": {
        "colab": {
          "base_uri": "https://localhost:8080/"
        },
        "id": "S5FiPtJ2wYeE",
        "outputId": "df91ef54-2bde-4d2b-c0b2-8083ac5d3a66"
      },
      "execution_count": 50,
      "outputs": [
        {
          "output_type": "stream",
          "name": "stdout",
          "text": [
            "France is in the dictionary\n"
          ]
        }
      ]
    },
    {
      "cell_type": "code",
      "source": [
        "# Task 5: Comparison Operators, Logical Operators and If/Else:"
      ],
      "metadata": {
        "id": "iX0_LFLXubrh"
      },
      "execution_count": null,
      "outputs": []
    },
    {
      "cell_type": "code",
      "source": [
        "# a) Create a variable called number that takes user input.\n",
        "# Write a block of code that checks if the number is positive or negative.\n",
        "# If the number is positive only then further check if it is even or odd.\n",
        "# Your output should print “The number is even”, or the “The number is odd”.\n",
        "\n",
        "# Taking user input from the user....\n",
        "number = int(input(\"Enter a number:\"))\n",
        "\n",
        "# Checking if the number is positive or negative...\n",
        "if number > 0:\n",
        "    # If number is positive then check if the number is even or odd..\n",
        "    if number % 2 == 0:\n",
        "        print(\"The number is even\")\n",
        "    else:\n",
        "        print(\"The number is odd\")"
      ],
      "metadata": {
        "colab": {
          "base_uri": "https://localhost:8080/"
        },
        "id": "O_ZlsF1i0Mnc",
        "outputId": "5a6f3a77-00e9-49a3-cf0d-151d8096796e"
      },
      "execution_count": 66,
      "outputs": [
        {
          "output_type": "stream",
          "name": "stdout",
          "text": [
            "Enter a number:20\n",
            "The number is even\n"
          ]
        }
      ]
    },
    {
      "cell_type": "code",
      "source": [
        "# b) Create two variables called age and GPA. Give them values of your choice. Next, write a block of code to check if a student with this age and GPA is eligible for admission.\n",
        "# The following are the conditions:\n",
        "#    - The student must be at least 18 years old.\n",
        "#    - The student's GPA must be 3.0 or higher on a scale of 4.0.\n",
        "#    Your output should print “Eligible for admission” or “Not eligible for admission”.\n",
        "\n",
        "# Assigning values to the variables..\n",
        "age = 18\n",
        "cgpa = 3.2\n",
        "\n",
        "# checking conditions..\n",
        "if age >=18 and cgpa >= 3.0:  # if age is greater or equals to 18 and cgpa is greater or equals to 3.0 will get the admission..\n",
        "  print(\"You are Eligible for admission\")\n",
        "\n",
        "else: #otherwise you are not getting the admission..\n",
        "  print(\"You are not Eligible for admission\")"
      ],
      "metadata": {
        "colab": {
          "base_uri": "https://localhost:8080/"
        },
        "id": "y-9Posjn4PVq",
        "outputId": "88171328-b18f-41d4-f5de-dcfd84fad051"
      },
      "execution_count": 65,
      "outputs": [
        {
          "output_type": "stream",
          "name": "stdout",
          "text": [
            "You are Eligible for admission\n"
          ]
        }
      ]
    },
    {
      "cell_type": "code",
      "source": [
        "# Task 6: Strings Manipulation"
      ],
      "metadata": {
        "id": "P2TH27v_7Esp"
      },
      "execution_count": null,
      "outputs": []
    },
    {
      "cell_type": "code",
      "source": [
        "# a) Create a string variable containing the following sentence:\n",
        "#    \"Python programming is fun and powerful!\"\n",
        "#    Write Python code to do the following and print the results:\n",
        "\n",
        "text =  \"Python programming is fun and powerful!\"\n",
        "\n",
        "# 1. Find the length of the string.\n",
        "length = len(text)\n",
        "print(\"The Lenght of the string is:\",length)\n",
        "\n",
        "#  2. Convert the string to uppercase.\n",
        "upper_text = text.upper()\n",
        "print(\"The Uppercase of the string is:\",upper_text)\n",
        "\n",
        "#  3. Replace \"fun\" with \"exciting.\"\n",
        "\n",
        "replace = text.replace(\"fun\",\"exciting\")\n",
        "print(\"Replaced fun with exciting:\",replace)\n",
        "\n",
        "# 4. Check if the string contains the word \"Python.\"\n",
        "\n",
        "contains_text = \"Python\" in text\n",
        "print(\"Find python word in the text:\",contains_text)\n",
        "\n",
        "# 6. Extract the last word \"powerful!\"\n",
        "string = text.split() # spiliting the string into list of words\n",
        "last_word = string[-1]  # Get the last word\n",
        "print(\"The last word of the text:\",last_word)\n",
        "\n",
        "# 5. Remove the word programming from the sentence and print the rest of the sentence\n",
        "\n",
        "# removing the string (programming) from the text\n",
        "remove_text = text.replace(\"programming\",\"\")\n",
        "print(\"updated string:\",remove_text)"
      ],
      "metadata": {
        "colab": {
          "base_uri": "https://localhost:8080/"
        },
        "id": "EB4FsbXV7HGZ",
        "outputId": "967f372d-0c4b-44b9-bf88-868e8198cf4f"
      },
      "execution_count": 100,
      "outputs": [
        {
          "output_type": "stream",
          "name": "stdout",
          "text": [
            "The Lenght of the string is: 39\n",
            "The Uppercase of the string is: PYTHON PROGRAMMING IS FUN AND POWERFUL!\n",
            "Replaced fun with exciting: Python programming is exciting and powerful!\n",
            "Find python word in the text: True\n",
            "The last word of the text: powerful!\n",
            "updated string: Python  is fun and powerful!\n"
          ]
        }
      ]
    },
    {
      "cell_type": "code",
      "source": [
        "# b) Given the string email = \"user@example.com\", perform the following:\n",
        "\n",
        "email = \"user@example.com\"\n",
        "\n",
        "# 1) Extract the username part (everything before the \"@\" symbol).\n",
        "\n",
        "username = email.split('@')[0]\n",
        "\n",
        "# 2)  Extract the domain part (everything after the \"@\" symbol).\n",
        "\n",
        "domain = email.split('@')[1]\n",
        "\n",
        "# 3)\tCheck if the email contains the substring \"example\".\n",
        "\n",
        "my_email = \"example\" in email\n",
        "\n",
        "# printing all the outputs\n",
        "\n",
        "print(\"Given Email:\",email)\n",
        "print(\"Username:\",username)\n",
        "print(\"Domain:\",domain)\n",
        "print(\"'example' string in email:\",my_email)"
      ],
      "metadata": {
        "colab": {
          "base_uri": "https://localhost:8080/"
        },
        "id": "tsiZY-TSFffx",
        "outputId": "a3cc78d6-ed09-4595-9173-b39c1324fd37"
      },
      "execution_count": 104,
      "outputs": [
        {
          "output_type": "stream",
          "name": "stdout",
          "text": [
            "Given Email: user@example.com\n",
            "Username: user\n",
            "Domain: example.com\n",
            "'example' string in email: True\n"
          ]
        }
      ]
    }
  ]
}